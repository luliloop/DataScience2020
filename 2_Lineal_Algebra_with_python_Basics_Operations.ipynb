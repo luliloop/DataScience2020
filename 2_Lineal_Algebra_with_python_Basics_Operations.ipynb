{
  "nbformat": 4,
  "nbformat_minor": 0,
  "metadata": {
    "colab": {
      "name": "2. Lineal Algebra with python - Basics Operations.ipynb",
      "provenance": [],
      "collapsed_sections": [],
      "authorship_tag": "ABX9TyN/6oK1EIL9ytuICZ8nGZ9M",
      "include_colab_link": true
    },
    "kernelspec": {
      "name": "python3",
      "display_name": "Python 3"
    }
  },
  "cells": [
    {
      "cell_type": "markdown",
      "metadata": {
        "id": "view-in-github",
        "colab_type": "text"
      },
      "source": [
        "<a href=\"https://colab.research.google.com/github/salvarezmeneses/DataScience2020/blob/master/2_Lineal_Algebra_with_python_Basics_Operations.ipynb\" target=\"_parent\"><img src=\"https://colab.research.google.com/assets/colab-badge.svg\" alt=\"Open In Colab\"/></a>"
      ]
    },
    {
      "cell_type": "markdown",
      "metadata": {
        "id": "-b-HzLyF2Oq1",
        "colab_type": "text"
      },
      "source": [
        "## Basics Operations\n",
        "Transposiciòn , Suma de matrices y Escalares.\n",
        "===============\n",
        "\n",
        "**Objetivo:**\n",
        "* El objetivo es realizar operaciones básicos.\n",
        "\n",
        "* definiremos los elementos bàsicos y su valor."
      ]
    },
    {
      "cell_type": "code",
      "metadata": {
        "id": "YXq6PUTe2K7W",
        "colab_type": "code",
        "colab": {}
      },
      "source": [
        "import numpy as np\n",
        "escalar = 5.679\n",
        "vector = np.array([3,4,5,6])\n",
        "matriz = np.array([[1,2],[3,4],[5,6]])\n",
        "tensor = np.array([[[255,255,255],[128,128,128],[80,80,80]],\n",
        "    [[100,101,102],[103,104,105],[160,170,180]],\n",
        "    [[190,200,210], [220,230,204], [255,227,238]]])"
      ],
      "execution_count": 0,
      "outputs": []
    },
    {
      "cell_type": "markdown",
      "metadata": {
        "id": "oflm1mmYFpSI",
        "colab_type": "text"
      },
      "source": [
        "# Transposición de escalar, vector.\n",
        "\n",
        "**¿ Que es transponer ?**\n",
        "\n",
        "* Matemáticamente hablando transponer es cambiar las filas x columnas. (siempre y cuando tengan las mismas dimensiones)\n",
        "\n",
        "* si tengo una matriz de 3 x 2 , quedara de 2 x 3.\n",
        "\n",
        "* En python , escribir una transpuesta es usar la función .T\n",
        "\n",
        "* Las variables que almacenen las transpuestas se denotaran con la _t\n",
        "\n",
        "\n"
      ]
    },
    {
      "cell_type": "code",
      "metadata": {
        "id": "TbjngVSP4YtL",
        "colab_type": "code",
        "colab": {}
      },
      "source": [
        "# Ejercicio 1: realice la transpuesta del escalar e indica al menos una conclusión.\n",
        "\n",
        "escalar_t = escalar.T\n",
        "print(escalar_t)"
      ],
      "execution_count": 0,
      "outputs": []
    },
    {
      "cell_type": "markdown",
      "metadata": {
        "id": "BaU88h6U6CXe",
        "colab_type": "text"
      },
      "source": [
        "**conclusion:** El resultado anterior no se ejecutara por que el escalar no tiene ni filas, ni columnas por tanto no se podrá transponer"
      ]
    },
    {
      "cell_type": "code",
      "metadata": {
        "id": "nMBY_HeX6PKN",
        "colab_type": "code",
        "outputId": "c2fd71d4-1b62-42d6-dfc0-8eddb2627f43",
        "colab": {
          "base_uri": "https://localhost:8080/",
          "height": 34
        }
      },
      "source": [
        "# Ejercicio 2: realice la transpuesta del escalar e indica al menos una conclusión.\n",
        "\n",
        "vector = np.array([3,4,5,6])\n",
        "vector.T"
      ],
      "execution_count": 0,
      "outputs": [
        {
          "output_type": "execute_result",
          "data": {
            "text/plain": [
              "array([3, 4, 5, 6])"
            ]
          },
          "metadata": {
            "tags": []
          },
          "execution_count": 14
        }
      ]
    },
    {
      "cell_type": "markdown",
      "metadata": {
        "id": "_8ZbVMXj-qzn",
        "colab_type": "text"
      },
      "source": [
        "**conclusion:**  El resultado anterior ejecutara el mismo Vector.\n",
        "\n",
        "\n",
        "\n"
      ]
    },
    {
      "cell_type": "markdown",
      "metadata": {
        "id": "0a1BsAgWFRfm",
        "colab_type": "text"
      },
      "source": [
        "# Transposición de matrices\n",
        "![texto alternativo](https://66.media.tumblr.com/4bba076e87a9c046323aeeaa42fcbca2/tumblr_inline_p4czceCYRv1r5w51c_1280.gifv)"
      ]
    },
    {
      "cell_type": "code",
      "metadata": {
        "id": "63zSxnzqBFdT",
        "colab_type": "code",
        "outputId": "c72f5285-3720-44d1-ca41-a2425eddf582",
        "colab": {
          "base_uri": "https://localhost:8080/",
          "height": 85
        }
      },
      "source": [
        "# Matriz inicial\n",
        "matriz = np.array([[1,2],[3,4],[5,6]])\n",
        "print(matriz)\n",
        "print(\"La dimensión es: \", matriz.shape)\n"
      ],
      "execution_count": 0,
      "outputs": [
        {
          "output_type": "stream",
          "text": [
            "[[1 2]\n",
            " [3 4]\n",
            " [5 6]]\n",
            "La dimensión es:  (3, 2)\n"
          ],
          "name": "stdout"
        }
      ]
    },
    {
      "cell_type": "code",
      "metadata": {
        "id": "30Qq-meMGltc",
        "colab_type": "code",
        "outputId": "60dec55a-df9e-4678-d821-f4291f77920a",
        "colab": {
          "base_uri": "https://localhost:8080/",
          "height": 68
        }
      },
      "source": [
        "# Transposición de Matriz.\n",
        "matriz_t = matriz.T\n",
        "print(matriz_t)\n",
        "print(\"La dimensión es: \", matriz_t.shape)"
      ],
      "execution_count": 0,
      "outputs": [
        {
          "output_type": "stream",
          "text": [
            "[[1 3 5]\n",
            " [2 4 6]]\n",
            "La dimensión es:  (2, 3)\n"
          ],
          "name": "stdout"
        }
      ]
    },
    {
      "cell_type": "code",
      "metadata": {
        "id": "vSjjNemsOXPp",
        "colab_type": "code",
        "outputId": "662e7c79-1e6c-4e65-e226-c3122cbe5d9d",
        "colab": {
          "base_uri": "https://localhost:8080/",
          "height": 68
        }
      },
      "source": [
        "# LA TRANSPUESTA DE UNA MATRIZ TRANSPUESTA , ES LA MATRIZ ORIGINAL\n",
        "matriz_t_t = matriz_t.T\n",
        "print(matriz_t_t)\n",
        "\n",
        "# Se obtiene la misma matriz original."
      ],
      "execution_count": 0,
      "outputs": [
        {
          "output_type": "stream",
          "text": [
            "[[1 2]\n",
            " [3 4]\n",
            " [5 6]]\n"
          ],
          "name": "stdout"
        }
      ]
    },
    {
      "cell_type": "markdown",
      "metadata": {
        "id": "jyChN8hDLCUE",
        "colab_type": "text"
      },
      "source": [
        "# Transposición de tensores."
      ]
    },
    {
      "cell_type": "code",
      "metadata": {
        "id": "rnP6PlqnKdge",
        "colab_type": "code",
        "outputId": "45c8ded5-32df-4dbf-b490-5f3c36acf64b",
        "colab": {
          "base_uri": "https://localhost:8080/",
          "height": 221
        }
      },
      "source": [
        "tensor = np.array([[[255,255,255],[128,128,128],[80,80,80]],\n",
        "    [[100,101,102],[103,104,105],[160,170,180]],\n",
        "    [[190,200,210], [220,230,204], [255,227,238]]])\n",
        "print(tensor)\n",
        "tensor.shape\n"
      ],
      "execution_count": 0,
      "outputs": [
        {
          "output_type": "stream",
          "text": [
            "[[[255 255 255]\n",
            "  [128 128 128]\n",
            "  [ 80  80  80]]\n",
            "\n",
            " [[100 101 102]\n",
            "  [103 104 105]\n",
            "  [160 170 180]]\n",
            "\n",
            " [[190 200 210]\n",
            "  [220 230 204]\n",
            "  [255 227 238]]]\n"
          ],
          "name": "stdout"
        },
        {
          "output_type": "execute_result",
          "data": {
            "text/plain": [
              "(3, 3, 3)"
            ]
          },
          "metadata": {
            "tags": []
          },
          "execution_count": 29
        }
      ]
    },
    {
      "cell_type": "code",
      "metadata": {
        "id": "bwNxVKfrMpeX",
        "colab_type": "code",
        "outputId": "e044490c-1a6b-4b8f-a05d-3d2c82955048",
        "colab": {
          "base_uri": "https://localhost:8080/",
          "height": 221
        }
      },
      "source": [
        "tensor_t = tensor.T\n",
        "print(tensor_t)\n",
        "tensor_t.shape"
      ],
      "execution_count": 0,
      "outputs": [
        {
          "output_type": "stream",
          "text": [
            "[[[255 100 190]\n",
            "  [128 103 220]\n",
            "  [ 80 160 255]]\n",
            "\n",
            " [[255 101 200]\n",
            "  [128 104 230]\n",
            "  [ 80 170 227]]\n",
            "\n",
            " [[255 102 210]\n",
            "  [128 105 204]\n",
            "  [ 80 180 238]]]\n"
          ],
          "name": "stdout"
        },
        {
          "output_type": "execute_result",
          "data": {
            "text/plain": [
              "(3, 3, 3)"
            ]
          },
          "metadata": {
            "tags": []
          },
          "execution_count": 30
        }
      ]
    },
    {
      "cell_type": "markdown",
      "metadata": {
        "id": "unzdLQ2FPzzJ",
        "colab_type": "text"
      },
      "source": [
        "# Suma de matrices.\n",
        "\n",
        "* La suma de matrices, matematicamente se define cuando se tienen las mismas dimensiones.\n",
        "* Cuando suma y resta matrices , sus dimensiones deben ser iguales.\n",
        "\n",
        "![texto alternativo](https://www.ditutor.com/matrices/images/19_1.gif)"
      ]
    },
    {
      "cell_type": "code",
      "metadata": {
        "id": "D9h8PjtXLBxK",
        "colab_type": "code",
        "outputId": "5f5fa010-377f-4198-e91b-b99f85ed8c7b",
        "colab": {
          "base_uri": "https://localhost:8080/",
          "height": 221
        }
      },
      "source": [
        "# Suma de 2 matrices con igual dimensión.\n",
        "import numpy as np\n",
        "A = np.array([[2,0,1],[3,0,0],[5,1,1]])\n",
        "B = np.array([[1,0,1],[1,2,1],[1,1,0]])\n",
        "C = A + B\n",
        "D = A - B \n",
        "\n",
        "print('la dimension de A es: ', A.shape)\n",
        "print('la dimension de B es: ', B.shape)\n",
        "print(\"\\n\")\n",
        "print('la resta de ambos es:',\"\\n\",D)\n",
        "print('la suma de ambos es:',\"\\n\",C)\n"
      ],
      "execution_count": 0,
      "outputs": [
        {
          "output_type": "stream",
          "text": [
            "la dimension de A es:  (3, 3)\n",
            "la dimension de B es:  (3, 3)\n",
            "\n",
            "\n",
            "la resta de ambos es: \n",
            " [[ 1  0  0]\n",
            " [ 2 -2 -1]\n",
            " [ 4  0  1]]\n",
            "la suma de ambos es: \n",
            " [[3 0 2]\n",
            " [4 2 1]\n",
            " [6 2 1]]\n"
          ],
          "name": "stdout"
        }
      ]
    },
    {
      "cell_type": "code",
      "metadata": {
        "id": "m93bXlLHYlsw",
        "colab_type": "code",
        "outputId": "f8edb9fd-b035-4604-ce46-682b80232095",
        "colab": {
          "base_uri": "https://localhost:8080/",
          "height": 68
        }
      },
      "source": [
        "# suma de matriz + Escalar.\n",
        "import numpy as np\n",
        "\n",
        "escalar = 5.679\n",
        "matriz = np.array([[1,2],[3,4],[5,6]])\n",
        "\n",
        "D = matriz + escalar\n",
        "\n",
        "print(D)"
      ],
      "execution_count": 0,
      "outputs": [
        {
          "output_type": "stream",
          "text": [
            "[[ 6.679  7.679]\n",
            " [ 8.679  9.679]\n",
            " [10.679 11.679]]\n"
          ],
          "name": "stdout"
        }
      ]
    },
    {
      "cell_type": "code",
      "metadata": {
        "id": "gOl_ekpGaQYA",
        "colab_type": "code",
        "outputId": "45576662-e129-4f36-cc1b-1c690db1ab43",
        "colab": {
          "base_uri": "https://localhost:8080/",
          "height": 204
        }
      },
      "source": [
        "# EJERCICIO 1:  Cree una matriz de 5 x 5 y sumesela a su transpuesta.\n",
        "# Su codigo aquí.\n",
        "import numpy as np\n",
        "\n",
        "# Cree una matriz de 5 x 5\n",
        "matriz3 = np.array([[1,2,3,4,5],[3,4,7,8,9],[5,6,1,0,2],[7,8,4,3,2],[5,2,3,4,1]])\n",
        "print(matriz3)\n",
        "matriz3.shape\n",
        "\n",
        "matriz3_t = matriz3.T\n",
        "print('la matriz transpuesta es: ')\n",
        "print(matriz3.T)"
      ],
      "execution_count": 0,
      "outputs": [
        {
          "output_type": "stream",
          "text": [
            "[[1 2 3 4 5]\n",
            " [3 4 7 8 9]\n",
            " [5 6 1 0 2]\n",
            " [7 8 4 3 2]\n",
            " [5 2 3 4 1]]\n",
            "la matriz transpuesta es: \n",
            "[[1 3 5 7 5]\n",
            " [2 4 6 8 2]\n",
            " [3 7 1 4 3]\n",
            " [4 8 0 3 4]\n",
            " [5 9 2 2 1]]\n"
          ],
          "name": "stdout"
        }
      ]
    },
    {
      "cell_type": "code",
      "metadata": {
        "id": "c0ErbK70kkmG",
        "colab_type": "code",
        "outputId": "dd80d680-60cd-4bf5-e6d0-c028fc06f748",
        "colab": {
          "base_uri": "https://localhost:8080/",
          "height": 102
        }
      },
      "source": [
        "# suma la matriz por su transpuesta.\n",
        "\n",
        "E = matriz3 + matriz3_t\n",
        "print(E)"
      ],
      "execution_count": 0,
      "outputs": [
        {
          "output_type": "stream",
          "text": [
            "[[ 2  5  8 11 10]\n",
            " [ 5  8 13 16 11]\n",
            " [ 8 13  2  4  5]\n",
            " [11 16  4  6  6]\n",
            " [10 11  5  6  2]]\n"
          ],
          "name": "stdout"
        }
      ]
    },
    {
      "cell_type": "markdown",
      "metadata": {
        "id": "XqrsJ6bzlbZw",
        "colab_type": "text"
      },
      "source": [
        "# Broadcasting: Suma de matrices de diferente dimensiòn.\n",
        "\n",
        "* El término difusión (broadcasting) describe cómo numpy trata las matrices con diferentes dimensiones. \n",
        "\n",
        "* Las partes de la operación broadcasting son: \n",
        "- La matriz pequeña\n",
        "- La matriz grande.\n",
        "\n",
        "* ¿Como opera?: La matriz más pequeña se repite ( o “transmite”,) a través de la matriz más grande para que tengan las mismas dimensiones.\n",
        "\n",
        "* La matriz más pequeña se repite.\n",
        "\n"
      ]
    },
    {
      "cell_type": "markdown",
      "metadata": {
        "id": "CB1vPFmeSlUP",
        "colab_type": "text"
      },
      "source": [
        "### Practica Broadcasting"
      ]
    },
    {
      "cell_type": "code",
      "metadata": {
        "id": "f4Wjon9Jlimc",
        "colab_type": "code",
        "colab": {}
      },
      "source": [
        "import numpy as np"
      ],
      "execution_count": 0,
      "outputs": []
    },
    {
      "cell_type": "code",
      "metadata": {
        "id": "m4V3kGnPjx5P",
        "colab_type": "code",
        "colab": {}
      },
      "source": [
        "# Analisis 1 : matriz + vector de diferentes dimensiones\n",
        "escalar = 5.679\n",
        "vector = np.array([3,4,5,])             # vector es fila de     3 elementos.\n",
        "matriz = np.array([[1,2],[3,4],[5,6]])  # matriz tiene filas de 2 elementos.\n",
        " \n",
        "A = vector + matriz"
      ],
      "execution_count": 0,
      "outputs": []
    },
    {
      "cell_type": "markdown",
      "metadata": {
        "id": "QrQrx8KPcrF6",
        "colab_type": "text"
      },
      "source": [
        "* **Conclusion matriz + vector :** '''No es posible, tienen diferentes dimensiones (shapes)\n",
        "solucion: transponer la matrix para cambiar sus dimensiones'''"
      ]
    },
    {
      "cell_type": "code",
      "metadata": {
        "id": "iFserpVje4EC",
        "colab_type": "code",
        "outputId": "ff97a92e-5b49-42cc-a3e5-258f157ee452",
        "colab": {
          "base_uri": "https://localhost:8080/",
          "height": 173
        }
      },
      "source": [
        "# Validar dimensiones de matriz.t y Vector\n",
        "print('la matriz es original es:') \n",
        "print(matriz)\n",
        "print('la matriz Transpuesta es:')\n",
        "print(matriz.T)\n",
        "print('el vector es :')\n",
        "print(vector)\n"
      ],
      "execution_count": 0,
      "outputs": [
        {
          "output_type": "stream",
          "text": [
            "la matriz es original es:\n",
            "[[1 2]\n",
            " [3 4]\n",
            " [5 6]]\n",
            "la matriz Transpuesta es:\n",
            "[[1 3 5]\n",
            " [2 4 6]]\n",
            "el vector es :\n",
            "[3 4 5]\n"
          ],
          "name": "stdout"
        }
      ]
    },
    {
      "cell_type": "code",
      "metadata": {
        "id": "waascr2fYDOt",
        "colab_type": "code",
        "outputId": "e3aa8bfb-e481-43f3-b64b-bfedb9a1cbe9",
        "colab": {
          "base_uri": "https://localhost:8080/",
          "height": 52
        }
      },
      "source": [
        "# Creaciòn de Broadcasting.\n",
        "A = matriz.T + vector \n",
        "print(A)\n"
      ],
      "execution_count": 0,
      "outputs": [
        {
          "output_type": "stream",
          "text": [
            "[[ 4  7 10]\n",
            " [ 5  8 11]]\n"
          ],
          "name": "stdout"
        }
      ]
    },
    {
      "cell_type": "markdown",
      "metadata": {
        "id": "jfxgeg5odG83",
        "colab_type": "text"
      },
      "source": [
        "\n",
        "* **Conclusiòn Broadcasting** \n",
        "* Broadcasting es extender (duplicar) el elemento de menor dimensiòn hasta el de mayor dimensiòn.\n",
        "* tanto, matriz.T como vector tienen filas de 2 elementos.![texto alternativo]\n",
        "* la matriz mas pequeña (vector) se repitió."
      ]
    },
    {
      "cell_type": "code",
      "metadata": {
        "id": "5m2fBJ-OdMd4",
        "colab_type": "code",
        "outputId": "7d395d65-97f4-4961-cfb8-780c8ea816b6",
        "colab": {
          "base_uri": "https://localhost:8080/",
          "height": 69
        }
      },
      "source": [
        "# Broadcasting con la misma dimensiòn.\n",
        "C = matriz + 42\n",
        "print(C)\n"
      ],
      "execution_count": 0,
      "outputs": [
        {
          "output_type": "stream",
          "text": [
            "[[43 44]\n",
            " [45 46]\n",
            " [47 48]]\n"
          ],
          "name": "stdout"
        }
      ]
    },
    {
      "cell_type": "code",
      "metadata": {
        "id": "uyjvIdj3-NMh",
        "colab_type": "code",
        "outputId": "1a14058f-4c8e-474b-c2ad-6101b8d4f55b",
        "colab": {
          "base_uri": "https://localhost:8080/",
          "height": 104
        }
      },
      "source": [
        "# creacion de vector 5 X 5\n",
        "vector4 = ([10,20,30,40,50])\n",
        "matriz4 = np.array([[1,2,3,4,5],[3,4,7,8,9],[5,6,1,0,2],[7,8,4,3,2],[5,2,3,4,1]])\n",
        "\n",
        "D = vector4 + matriz4\n",
        "print(D)"
      ],
      "execution_count": 0,
      "outputs": [
        {
          "output_type": "stream",
          "text": [
            "[[11 22 33 44 55]\n",
            " [13 24 37 48 59]\n",
            " [15 26 31 40 52]\n",
            " [17 28 34 43 52]\n",
            " [15 22 33 44 51]]\n"
          ],
          "name": "stdout"
        }
      ]
    },
    {
      "cell_type": "markdown",
      "metadata": {
        "id": "NBYY8aF83sYI",
        "colab_type": "text"
      },
      "source": [
        "# Parte 3: Producto Interno o Producto Punto (dot producto) entre dos matrices.\n",
        "\n",
        "**Producto punto**: \n",
        "* Producto Punto es una multiplicación a todos los elementos de la matriz.\n",
        "\n",
        "$$ H =\n",
        "\\left(\\begin{array}{cc} \n",
        "1 & 2\\\\\n",
        "3 & 4\\\\\n",
        "\\end{array}\\right) I =\n",
        "\\left(\\begin{array}{cc} \n",
        "11 & 12 \\\\\n",
        "13 & 14\\\\\n",
        "\\end{array}\\right)\n",
        "$$ \n"
      ]
    },
    {
      "cell_type": "code",
      "metadata": {
        "id": "dcRzjmf9DQGk",
        "colab_type": "code",
        "outputId": "b9fdb113-ec71-42df-e6c7-4f687ce22168",
        "colab": {
          "base_uri": "https://localhost:8080/",
          "height": 85
        }
      },
      "source": [
        "import numpy as np\n",
        "\n",
        "M1 = np.array([[1,2],[3,4]]) \n",
        "M2 = np.array([[11,12],[13,14]]) \n",
        "\n",
        "M1_dot = M1.dot(M2)\n",
        "\n",
        "print('el producto interno es:',\"\\n\", M1_dot ,\"\\n\")\n"
      ],
      "execution_count": 0,
      "outputs": [
        {
          "output_type": "stream",
          "text": [
            "el producto interno es: \n",
            " [[37 40]\n",
            " [85 92]] \n",
            "\n"
          ],
          "name": "stdout"
        }
      ]
    },
    {
      "cell_type": "markdown",
      "metadata": {
        "id": "bxBBYGkTVslI",
        "colab_type": "text"
      },
      "source": [
        "# Determinante de una matriz.\n",
        "\n",
        "Es una multiplcacion \n",
        "\n",
        "\n",
        "\n"
      ]
    }
  ]
}