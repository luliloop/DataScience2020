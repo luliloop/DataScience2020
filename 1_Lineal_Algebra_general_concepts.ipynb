{
  "nbformat": 4,
  "nbformat_minor": 0,
  "metadata": {
    "colab": {
      "name": "1. Lineal Algebra general concepts.ipynb",
      "provenance": [],
      "include_colab_link": true
    },
    "kernelspec": {
      "name": "python3",
      "display_name": "Python 3"
    }
  },
  "cells": [
    {
      "cell_type": "markdown",
      "metadata": {
        "id": "view-in-github",
        "colab_type": "text"
      },
      "source": [
        "<a href=\"https://colab.research.google.com/github/salvarezmeneses/DataScience2020/blob/master/1_Lineal_Algebra_general_concepts.ipynb\" target=\"_parent\"><img src=\"https://colab.research.google.com/assets/colab-badge.svg\" alt=\"Open In Colab\"/></a>"
      ]
    },
    {
      "cell_type": "markdown",
      "metadata": {
        "id": "6aaM6lPyPofS",
        "colab_type": "text"
      },
      "source": [
        "# LINEAL ALGEBRA.\n",
        "\n",
        "**Algebra Lineal:** It is the branch of mathematics that studies the operations between matrices and vectors.\n",
        "\n",
        "\n",
        "### Applications Requiered.\n",
        "\n",
        "- Jupyter Notebooks with Python 3.7.\n",
        "- Google Collaboraty."
      ]
    },
    {
      "cell_type": "markdown",
      "metadata": {
        "id": "j9dlA_XJlzZz",
        "colab_type": "text"
      },
      "source": [
        "# ARRAYS CLASSIFICATION\n",
        "\n"
      ]
    },
    {
      "cell_type": "markdown",
      "metadata": {
        "id": "CtVBFl83ek44",
        "colab_type": "text"
      },
      "source": [
        "![texto alternativo](https://5d75933d-a-3a50c135-s-sites.googlegroups.com/a/espe.edu.ec/programacion-ii/home/a1-arreglos/declaracion-manipulacion-y-asignacion-de-vectores/programacion-inf121-i8-ii-2013-ocho-arreglos-5-638.jpg?attachauth=ANoY7cq_34TXZIpNLYbWraPQfDFlQ3FYq1sveI9AgILzzH1SwsiSBTaLHtR9jymM_9NjseUq0JNE5cWj6AVWvcV2mx6BbTOT8E5610So8Tvby-uu0kFAfuaFF7xh3EHJNZmVcTtYzjHxVLoHCPnTuuNgwa_3jv7hAjRtcTc5VOw9fw-r_ak6hUXag7_QSweoOxF306eIx5da2EqB5uHW9DrVHE0XY6SALzBWYPjRwDi0mJfgI2kPzZzO0wtauSgGtz4SI2QmME_6GT4_5sfeVkOz0fjCA9qmu3H3DkfUPux89IgJnFWO2colc30xRoCO2Q5EX6LLbHUmio3IhySfGy6j5o1CG6oZITCynSjo8nihU9tvzyamoZM%3D&attredirects=0)"
      ]
    },
    {
      "cell_type": "markdown",
      "metadata": {
        "id": "WZbKO1_Eb6Fq",
        "colab_type": "text"
      },
      "source": [
        "# SCALARS, VECTORS, MATRIX AND TENSOR.\n",
        "\n",
        "* **Scalars:** A scalar in math is nothing more than a number.\n",
        "but in python a scalar can be several things (integer, floating point, complex number, string, null type, boolean, etc)\n",
        "\n"
      ]
    },
    {
      "cell_type": "code",
      "metadata": {
        "id": "mCu4Ci1ud3gX",
        "colab_type": "code",
        "colab": {}
      },
      "source": [
        "# Scalares en python\n",
        "a = 9\n",
        "b = 4.8\n",
        "c = 7.435\n",
        "print(a)  "
      ],
      "execution_count": 0,
      "outputs": []
    },
    {
      "cell_type": "markdown",
      "metadata": {
        "id": "vHuWKTd8d7a8",
        "colab_type": "text"
      },
      "source": [
        "* **Vector**:(array) It is a set of numbers."
      ]
    },
    {
      "cell_type": "code",
      "metadata": {
        "id": "mBegUJByebZ9",
        "colab_type": "code",
        "outputId": "56fd463b-1294-4aaf-fbb1-5a9fab4e9d8b",
        "colab": {
          "base_uri": "https://localhost:8080/",
          "height": 35
        }
      },
      "source": [
        "import numpy as np\n",
        "vector = np.array([9,5,6,2,4,8,3]) # vector creation \n",
        "print(vector) "
      ],
      "execution_count": 0,
      "outputs": [
        {
          "output_type": "stream",
          "text": [
            "[9 5 6 2 4 8 3]\n"
          ],
          "name": "stdout"
        }
      ]
    },
    {
      "cell_type": "markdown",
      "metadata": {
        "id": "h9fjp8tlQi68",
        "colab_type": "text"
      },
      "source": [
        " ![texto alternativo](http://1.bp.blogspot.com/-5RFq25b5-xc/UehaelMHfjI/AAAAAAAABYY/V0vbnR4lNek/s1600/vectores+en+c%23.png)\n",
        "\n",
        "\n",
        "\n",
        "\n"
      ]
    },
    {
      "cell_type": "markdown",
      "metadata": {
        "id": "iYo56A-3bz0H",
        "colab_type": "text"
      },
      "source": [
        "![texto alternativo](http://2.bp.blogspot.com/-2Jh-lsaLZ1A/UehbRzIYSTI/AAAAAAAABYk/H9bLvLwKCJQ/s1600/matrices+en+c%23.png)"
      ]
    },
    {
      "cell_type": "code",
      "metadata": {
        "id": "lJLudeq3biiB",
        "colab_type": "code",
        "outputId": "6926ed1f-7bca-48c3-fbff-ef51e8776bb6",
        "colab": {
          "base_uri": "https://localhost:8080/",
          "height": 69
        }
      },
      "source": [
        "# Matriz\n",
        "matriz = np.array([[9,5,7,2,4,8,3],[9,4,6,2,4,8,3],[9,1,6,2,4,8,3]])\n",
        "print(matriz)"
      ],
      "execution_count": 0,
      "outputs": [
        {
          "output_type": "stream",
          "text": [
            "[[9 5 7 2 4 8 3]\n",
            " [9 4 6 2 4 8 3]\n",
            " [9 1 6 2 4 8 3]]\n"
          ],
          "name": "stdout"
        }
      ]
    },
    {
      "cell_type": "markdown",
      "metadata": {
        "id": "T2sIz8qjmQ1p",
        "colab_type": "text"
      },
      "source": [
        "**Tensor**: It is the set of matrices. \n",
        "\n",
        "* What can be represented with a tensor?\n",
        "\n",
        "* If with a matrix it can represent an image, with a tensor I can represent a video.\n"
      ]
    },
    {
      "cell_type": "markdown",
      "metadata": {
        "id": "RaHlSp3XXN7m",
        "colab_type": "text"
      },
      "source": [
        "![texto alternativo](https://miro.medium.com/max/489/1*PxcT_3es1FG2EBsy9C3uxA.png)"
      ]
    },
    {
      "cell_type": "code",
      "metadata": {
        "id": "uUuMsoDHgDl3",
        "colab_type": "code",
        "outputId": "425109ab-5e3c-48b7-bd82-df952c8b6b0e",
        "colab": {
          "base_uri": "https://localhost:8080/",
          "height": 208
        }
      },
      "source": [
        "tensor = np.array([[[255,255,255],[128,128,128],[80,80,80]],\n",
        "    [[100,101,102],[103,104,105],[160,170,180]],\n",
        "    [[190,200,210], [220,230,204], [255,227,238]]])\n",
        "\n",
        "print(tensor)"
      ],
      "execution_count": 0,
      "outputs": [
        {
          "output_type": "stream",
          "text": [
            "[[[255 255 255]\n",
            "  [128 128 128]\n",
            "  [ 80  80  80]]\n",
            "\n",
            " [[100 101 102]\n",
            "  [103 104 105]\n",
            "  [160 170 180]]\n",
            "\n",
            " [[190 200 210]\n",
            "  [220 230 204]\n",
            "  [255 227 238]]]\n"
          ],
          "name": "stdout"
        }
      ]
    },
    {
      "cell_type": "code",
      "metadata": {
        "colab_type": "code",
        "outputId": "c8af6dfc-25d5-4c3a-ce6d-8ab2c31458a5",
        "id": "RdQv0fU2dbQp",
        "colab": {
          "base_uri": "https://localhost:8080/",
          "height": 269
        }
      },
      "source": [
        "import matplotlib.pyplot as plt # pyplot to make the graphics\n",
        "# imshow(to show the image like tensor)\n",
        "plt.imshow(tensor, interpolation='nearest') \n",
        "# show 0(black), 255(white).\n",
        "plt.show()"
      ],
      "execution_count": 0,
      "outputs": [
        {
          "output_type": "display_data",
          "data": {
            "image/png": "[encoded data removed]",
            "text/plain": [
              "<Figure size 432x288 with 1 Axes>"
            ]
          },
          "metadata": {
            "tags": []
          }
        }
      ]
    },
    {
      "cell_type": "markdown",
      "metadata": {
        "id": "Ohx4co0V-wbd",
        "colab_type": "text"
      },
      "source": [
        "## Practice 1.\n",
        "\n",
        "* Generate the scalar number 42.\n",
        "* Generate a vector containing 2, 3, 5, 7\n",
        "* Generate a 3 x 2 matrix\n",
        "* Generate a tensor that has in its first white row, second black and third gray."
      ]
    },
    {
      "cell_type": "code",
      "metadata": {
        "id": "sfVnqF4snwWr",
        "colab_type": "code",
        "colab": {}
      },
      "source": [
        "# Practice 1\n",
        "'your code here'"
      ],
      "execution_count": 0,
      "outputs": []
    },
    {
      "cell_type": "markdown",
      "metadata": {
        "id": "b030dHtmaQYt",
        "colab_type": "text"
      },
      "source": [
        "\n",
        "Practice 1: double click __Here__ for Solution.\n",
        "\n",
        "<!-- Your answer is below:\n",
        "escalar = 42\n",
        "print(\"Escalar: \", escalar)\n",
        "\n",
        "vector = np.array([2,3,5,7])\n",
        "print(\"\\nVector: \",vector)\n",
        "\n",
        "matriz = np.array([[1,2,3], [4, 5, 6], [7, 8, 9]])\n",
        "print(\"\\nMatriz: \",matriz)\n",
        "\n",
        "tensor = np.array([\n",
        "    [[255, 255, 255], [255, 255, 255], [255, 255, 255]],\n",
        "    [[0, 0, 0], [0, 0, 0], [0, 0 ,0]],\n",
        "    [[128, 128, 128], [128, 128, 128], [128, 128, 128]],\n",
        "    \n",
        "])\n",
        "\n",
        "print(\"\\nTensor: \")\n",
        "plt.imshow(tensor, interpolation='nearest')\n",
        "plt.show()\n",
        "-->"
      ]
    },
    {
      "cell_type": "markdown",
      "metadata": {
        "id": "V2DBs191GM-X",
        "colab_type": "text"
      },
      "source": [
        "# DIMENSION AND SIZE\n",
        "\n",
        "# Dimension of  matrix ,  tensor \n",
        "\n",
        "**Matrix Dimension:** \n",
        "* the number of rows by the number of columns its called Matrix Dimension. if a Matrix have a rows and b columns, is a x b matrix .\n",
        "\n",
        "**Tensor Dimension:**\n",
        "* Tensor has 3 dimensions (depth, rows, columns.)\n",
        "\n",
        "\n"
      ]
    },
    {
      "cell_type": "markdown",
      "metadata": {
        "id": "EjUX9Bi4M9VQ",
        "colab_type": "text"
      },
      "source": [
        "### Shape Funtion.\n",
        "\n",
        "* The shape function returns the dimensions (rows x columns) of the object."
      ]
    },
    {
      "cell_type": "code",
      "metadata": {
        "id": "STh3yPPGKFj_",
        "colab_type": "code",
        "outputId": "29517b9c-917a-446c-ff6d-8e2c05e61a2f",
        "colab": {
          "base_uri": "https://localhost:8080/",
          "height": 34
        }
      },
      "source": [
        "import numpy as np\n",
        "matriz_A = np.array([[1,2,3], [4, 5, 6], [7, 8, 9]])\n",
        "matriz_A.shape"
      ],
      "execution_count": 4,
      "outputs": [
        {
          "output_type": "execute_result",
          "data": {
            "text/plain": [
              "(3, 3)"
            ]
          },
          "metadata": {
            "tags": []
          },
          "execution_count": 4
        }
      ]
    },
    {
      "cell_type": "markdown",
      "metadata": {
        "id": "SV2JCRvleTqk",
        "colab_type": "text"
      },
      "source": [
        "## size funcion\n",
        "\n",
        "* The size function returns the size (the number of elements)."
      ]
    },
    {
      "cell_type": "code",
      "metadata": {
        "id": "e5bbRKeni3kp",
        "colab_type": "code",
        "outputId": "39852f43-c268-4b29-b785-fdab7da96f0c",
        "colab": {
          "base_uri": "https://localhost:8080/",
          "height": 34
        }
      },
      "source": [
        "import numpy as np\n",
        "matriz_A = np.array([[1,2,3], [4, 5, 6], [7, 8, 9]])\n",
        "matriz_A.size"
      ],
      "execution_count": 3,
      "outputs": [
        {
          "output_type": "execute_result",
          "data": {
            "text/plain": [
              "9"
            ]
          },
          "metadata": {
            "tags": []
          },
          "execution_count": 3
        }
      ]
    },
    {
      "cell_type": "markdown",
      "metadata": {
        "id": "vBgbHysapoiK",
        "colab_type": "text"
      },
      "source": [
        "## Shape and size function - Tensors\n",
        "\n",
        "* in tensor .shape will show us rows x columns x depth.\n",
        "\n"
      ]
    },
    {
      "cell_type": "code",
      "metadata": {
        "id": "kyl2scapol8s",
        "colab_type": "code",
        "colab": {}
      },
      "source": [
        "import numpy as np\n",
        "\n",
        "tensor2 = np.array([\n",
        "    [[255, 255, 255], [255, 255, 255], [255, 255, 255]],\n",
        "    [[0, 0, 0], [0, 0, 0], [0, 0 ,0]],\n",
        "    [[128, 128, 128], [128, 128, 128], [128, 128, 128]],\n",
        "    \n",
        "])"
      ],
      "execution_count": 0,
      "outputs": []
    },
    {
      "cell_type": "code",
      "metadata": {
        "id": "Ty6eDGA4otHf",
        "colab_type": "code",
        "outputId": "e20e750e-6c2e-495c-e295-9e1861e29fa7",
        "colab": {
          "base_uri": "https://localhost:8080/",
          "height": 34
        }
      },
      "source": [
        "\n",
        "print(tensor2.shape) "
      ],
      "execution_count": 6,
      "outputs": [
        {
          "output_type": "stream",
          "text": [
            "(3, 3, 3)\n"
          ],
          "name": "stdout"
        }
      ]
    },
    {
      "cell_type": "code",
      "metadata": {
        "id": "OcNeg-8EMyT2",
        "colab_type": "code",
        "colab": {
          "base_uri": "https://localhost:8080/",
          "height": 34
        },
        "outputId": "6367bd1b-435e-45dc-d250-a463a04bf5a1"
      },
      "source": [
        "print(tensor2.size)"
      ],
      "execution_count": 7,
      "outputs": [
        {
          "output_type": "stream",
          "text": [
            "27\n"
          ],
          "name": "stdout"
        }
      ]
    }
  ]
}